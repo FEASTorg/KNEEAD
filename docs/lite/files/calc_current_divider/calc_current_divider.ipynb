{
 "cells": [
  {
   "cell_type": "markdown",
   "id": "2553bbd5",
   "metadata": {},
   "source": [
    "# 🔀 Current Divider Calculator\n",
    "\n",
    "This tool calculates the current flow through **an arbitrary number of parallel-connected resistors** connected to a shared current source.\n",
    "\n",
    "### 📘 Formula\n",
    "\n",
    "The current through a specific resistor \\( R_n \\) in a parallel network is given by:\n",
    "\n",
    "$$\n",
    "I_n = I_s \\cdot \\left( \\frac{R_{\\text{total}}}{R_n} \\right)\n",
    "$$\n",
    "\n",
    "Where:\n",
    "\n",
    "- \\( I_n \\): Current through resistor \\( R_n \\)\n",
    "- \\( I_s \\): Total current from the source\n",
    "- \\( R\\_{\\text{total}} \\): Equivalent resistance of the full parallel network\n",
    "\n",
    "The equivalent resistance is computed by:\n",
    "\n",
    "$$\n",
    "\\frac{1}{R_{\\text{total}}} = \\sum_{i=1}^{n} \\frac{1}{R_i}\n",
    "$$\n",
    "\n",
    "---\n",
    "\n",
    "### 🔧 Circuit Diagram\n",
    "\n",
    "![Current Divider Circuit](./current_divider.png)\n"
   ]
  },
  {
   "cell_type": "code",
   "execution_count": null,
   "id": "c05103dd",
   "metadata": {},
   "outputs": [],
   "source": [
    "import calc_current_divider as cd\n",
    "import inspect\n",
    "from IPython.display import Markdown, display"
   ]
  },
  {
   "cell_type": "code",
   "execution_count": null,
   "id": "aabd194e",
   "metadata": {},
   "outputs": [
    {
     "data": {
      "text/markdown": [
       "### 📦 `parallel_resistance` function"
      ],
      "text/plain": [
       "<IPython.core.display.Markdown object>"
      ]
     },
     "metadata": {},
     "output_type": "display_data"
    },
    {
     "name": "stdout",
     "output_type": "stream",
     "text": [
      "def parallel_resistance(resistors):\n",
      "    \"\"\"\n",
      "    Calculate the equivalent resistance of resistors in parallel.\n",
      "\n",
      "    Parameters:\n",
      "    resistors (list of float): List of resistor values in ohms.\n",
      "\n",
      "    Returns:\n",
      "    float: Equivalent parallel resistance in ohms.\n",
      "    \"\"\"\n",
      "    if not resistors or any(R <= 0 for R in resistors):\n",
      "        raise ValueError(\"Resistors must be a list of positive non-zero values.\")\n",
      "    return 1 / sum(1 / R for R in resistors)\n",
      "\n"
     ]
    }
   ],
   "source": [
    "display(Markdown(\"### 📦 `parallel_resistance` function\"))\n",
    "print(inspect.getsource(cd.parallel_resistance))"
   ]
  },
  {
   "cell_type": "code",
   "execution_count": null,
   "id": "37bf4f5e",
   "metadata": {},
   "outputs": [
    {
     "data": {
      "text/markdown": [
       "### 📦 `current_through_branch` function"
      ],
      "text/plain": [
       "<IPython.core.display.Markdown object>"
      ]
     },
     "metadata": {},
     "output_type": "display_data"
    },
    {
     "name": "stdout",
     "output_type": "stream",
     "text": [
      "def current_through_branch(I_source, resistors, index):\n",
      "    \"\"\"\n",
      "    Calculate the current through a specific resistor in a parallel network.\n",
      "\n",
      "    Parameters:\n",
      "    I_source (float): Total current supplied to the parallel network (in amps).\n",
      "    resistors (list of float): Resistor values in ohms.\n",
      "    index (int): Index of the resistor to compute current through.\n",
      "\n",
      "    Returns:\n",
      "    float: Current through the specified resistor (in amps).\n",
      "    \"\"\"\n",
      "    if index >= len(resistors):\n",
      "        raise IndexError(\"Index out of range of resistors list.\")\n",
      "    Rn = resistors[index]\n",
      "    R_total = parallel_resistance(resistors)\n",
      "    return I_source * (R_total / Rn)\n",
      "\n"
     ]
    }
   ],
   "source": [
    "display(Markdown(\"### 📦 `current_through_branch` function\"))\n",
    "print(inspect.getsource(cd.current_through_branch))"
   ]
  },
  {
   "cell_type": "code",
   "execution_count": null,
   "id": "032fc7f7",
   "metadata": {},
   "outputs": [],
   "source": [
    "def example_current_divider(I_source, resistors):\n",
    "    print(f\"🔌 Source Current: {I_source} A\")\n",
    "    print(f\"🧩 Resistor Values (Ω): {resistors}\")\n",
    "    R_eq = cd.parallel_resistance(resistors)\n",
    "    print(f\"📏 Total Equivalent Resistance: {R_eq:.2f} Ω\\n\")\n",
    "\n",
    "    for i in range(len(resistors)):\n",
    "        I_n = cd.current_through_branch(I_source, resistors, i)\n",
    "        print(f\"🔻 Current through R{i+1} ({resistors[i]} Ω): {I_n:.4f} A\")"
   ]
  },
  {
   "cell_type": "code",
   "execution_count": null,
   "id": "62b2a891",
   "metadata": {},
   "outputs": [
    {
     "name": "stdout",
     "output_type": "stream",
     "text": [
      "🔌 Source Current: 0.5 A\n",
      "🧩 Resistor Values (Ω): [1000, 2000, 4700]\n",
      "📏 Total Equivalent Resistance: 583.85 Ω\n",
      "\n",
      "🔻 Current through R1 (1000 Ω): 0.2919 A\n",
      "🔻 Current through R2 (2000 Ω): 0.1460 A\n",
      "🔻 Current through R3 (4700 Ω): 0.0621 A\n"
     ]
    }
   ],
   "source": [
    "# Example inputs\n",
    "I_source = 0.5  # Amps\n",
    "resistor_array = [1000, 2000, 4700]\n",
    "\n",
    "example_current_divider(I_source, resistor_array)"
   ]
  },
  {
   "cell_type": "code",
   "execution_count": null,
   "id": "970d5af2",
   "metadata": {},
   "outputs": [
    {
     "name": "stdout",
     "output_type": "stream",
     "text": [
      "🔌 Source Current: 1.0 A\n",
      "🧩 Resistor Values (Ω): [100, 110, 120, 130, 140, 150, 160, 170, 180, 190, 200, 210, 220, 230, 240, 250, 260, 270, 280, 290, 300, 310, 320, 330, 340, 350, 360, 370, 380, 390, 400, 410, 420, 430, 440, 450, 460, 470, 480, 490, 500, 510, 520, 530, 540, 550, 560, 570, 580, 590, 600, 610, 620, 630, 640, 650, 660, 670, 680, 690, 700, 710, 720, 730, 740, 750, 760, 770, 780, 790, 800, 810, 820, 830, 840, 850, 860, 870, 880, 890, 900, 910, 920, 930, 940, 950, 960, 970, 980, 990, 1000, 1010, 1020, 1030, 1040, 1050, 1060, 1070, 1080, 1090]\n",
      "📏 Total Equivalent Resistance: 4.09 Ω\n",
      "\n",
      "🔻 Current through R1 (100 Ω): 0.0409 A\n",
      "🔻 Current through R2 (110 Ω): 0.0372 A\n",
      "🔻 Current through R3 (120 Ω): 0.0341 A\n",
      "🔻 Current through R4 (130 Ω): 0.0315 A\n",
      "🔻 Current through R5 (140 Ω): 0.0292 A\n",
      "🔻 Current through R6 (150 Ω): 0.0273 A\n",
      "🔻 Current through R7 (160 Ω): 0.0256 A\n",
      "🔻 Current through R8 (170 Ω): 0.0241 A\n",
      "🔻 Current through R9 (180 Ω): 0.0227 A\n",
      "🔻 Current through R10 (190 Ω): 0.0215 A\n",
      "🔻 Current through R11 (200 Ω): 0.0205 A\n",
      "🔻 Current through R12 (210 Ω): 0.0195 A\n",
      "🔻 Current through R13 (220 Ω): 0.0186 A\n",
      "🔻 Current through R14 (230 Ω): 0.0178 A\n",
      "🔻 Current through R15 (240 Ω): 0.0170 A\n",
      "🔻 Current through R16 (250 Ω): 0.0164 A\n",
      "🔻 Current through R17 (260 Ω): 0.0157 A\n",
      "🔻 Current through R18 (270 Ω): 0.0152 A\n",
      "🔻 Current through R19 (280 Ω): 0.0146 A\n",
      "🔻 Current through R20 (290 Ω): 0.0141 A\n",
      "🔻 Current through R21 (300 Ω): 0.0136 A\n",
      "🔻 Current through R22 (310 Ω): 0.0132 A\n",
      "🔻 Current through R23 (320 Ω): 0.0128 A\n",
      "🔻 Current through R24 (330 Ω): 0.0124 A\n",
      "🔻 Current through R25 (340 Ω): 0.0120 A\n",
      "🔻 Current through R26 (350 Ω): 0.0117 A\n",
      "🔻 Current through R27 (360 Ω): 0.0114 A\n",
      "🔻 Current through R28 (370 Ω): 0.0111 A\n",
      "🔻 Current through R29 (380 Ω): 0.0108 A\n",
      "🔻 Current through R30 (390 Ω): 0.0105 A\n",
      "🔻 Current through R31 (400 Ω): 0.0102 A\n",
      "🔻 Current through R32 (410 Ω): 0.0100 A\n",
      "🔻 Current through R33 (420 Ω): 0.0097 A\n",
      "🔻 Current through R34 (430 Ω): 0.0095 A\n",
      "🔻 Current through R35 (440 Ω): 0.0093 A\n",
      "🔻 Current through R36 (450 Ω): 0.0091 A\n",
      "🔻 Current through R37 (460 Ω): 0.0089 A\n",
      "🔻 Current through R38 (470 Ω): 0.0087 A\n",
      "🔻 Current through R39 (480 Ω): 0.0085 A\n",
      "🔻 Current through R40 (490 Ω): 0.0083 A\n",
      "🔻 Current through R41 (500 Ω): 0.0082 A\n",
      "🔻 Current through R42 (510 Ω): 0.0080 A\n",
      "🔻 Current through R43 (520 Ω): 0.0079 A\n",
      "🔻 Current through R44 (530 Ω): 0.0077 A\n",
      "🔻 Current through R45 (540 Ω): 0.0076 A\n",
      "🔻 Current through R46 (550 Ω): 0.0074 A\n",
      "🔻 Current through R47 (560 Ω): 0.0073 A\n",
      "🔻 Current through R48 (570 Ω): 0.0072 A\n",
      "🔻 Current through R49 (580 Ω): 0.0071 A\n",
      "🔻 Current through R50 (590 Ω): 0.0069 A\n",
      "🔻 Current through R51 (600 Ω): 0.0068 A\n",
      "🔻 Current through R52 (610 Ω): 0.0067 A\n",
      "🔻 Current through R53 (620 Ω): 0.0066 A\n",
      "🔻 Current through R54 (630 Ω): 0.0065 A\n",
      "🔻 Current through R55 (640 Ω): 0.0064 A\n",
      "🔻 Current through R56 (650 Ω): 0.0063 A\n",
      "🔻 Current through R57 (660 Ω): 0.0062 A\n",
      "🔻 Current through R58 (670 Ω): 0.0061 A\n",
      "🔻 Current through R59 (680 Ω): 0.0060 A\n",
      "🔻 Current through R60 (690 Ω): 0.0059 A\n",
      "🔻 Current through R61 (700 Ω): 0.0058 A\n",
      "🔻 Current through R62 (710 Ω): 0.0058 A\n",
      "🔻 Current through R63 (720 Ω): 0.0057 A\n",
      "🔻 Current through R64 (730 Ω): 0.0056 A\n",
      "🔻 Current through R65 (740 Ω): 0.0055 A\n",
      "🔻 Current through R66 (750 Ω): 0.0055 A\n",
      "🔻 Current through R67 (760 Ω): 0.0054 A\n",
      "🔻 Current through R68 (770 Ω): 0.0053 A\n",
      "🔻 Current through R69 (780 Ω): 0.0052 A\n",
      "🔻 Current through R70 (790 Ω): 0.0052 A\n",
      "🔻 Current through R71 (800 Ω): 0.0051 A\n",
      "🔻 Current through R72 (810 Ω): 0.0051 A\n",
      "🔻 Current through R73 (820 Ω): 0.0050 A\n",
      "🔻 Current through R74 (830 Ω): 0.0049 A\n",
      "🔻 Current through R75 (840 Ω): 0.0049 A\n",
      "🔻 Current through R76 (850 Ω): 0.0048 A\n",
      "🔻 Current through R77 (860 Ω): 0.0048 A\n",
      "🔻 Current through R78 (870 Ω): 0.0047 A\n",
      "🔻 Current through R79 (880 Ω): 0.0046 A\n",
      "🔻 Current through R80 (890 Ω): 0.0046 A\n",
      "🔻 Current through R81 (900 Ω): 0.0045 A\n",
      "🔻 Current through R82 (910 Ω): 0.0045 A\n",
      "🔻 Current through R83 (920 Ω): 0.0044 A\n",
      "🔻 Current through R84 (930 Ω): 0.0044 A\n",
      "🔻 Current through R85 (940 Ω): 0.0044 A\n",
      "🔻 Current through R86 (950 Ω): 0.0043 A\n",
      "🔻 Current through R87 (960 Ω): 0.0043 A\n",
      "🔻 Current through R88 (970 Ω): 0.0042 A\n",
      "🔻 Current through R89 (980 Ω): 0.0042 A\n",
      "🔻 Current through R90 (990 Ω): 0.0041 A\n",
      "🔻 Current through R91 (1000 Ω): 0.0041 A\n",
      "🔻 Current through R92 (1010 Ω): 0.0041 A\n",
      "🔻 Current through R93 (1020 Ω): 0.0040 A\n",
      "🔻 Current through R94 (1030 Ω): 0.0040 A\n",
      "🔻 Current through R95 (1040 Ω): 0.0039 A\n",
      "🔻 Current through R96 (1050 Ω): 0.0039 A\n",
      "🔻 Current through R97 (1060 Ω): 0.0039 A\n",
      "🔻 Current through R98 (1070 Ω): 0.0038 A\n",
      "🔻 Current through R99 (1080 Ω): 0.0038 A\n",
      "🔻 Current through R100 (1090 Ω): 0.0038 A\n"
     ]
    }
   ],
   "source": [
    "# Large example with 100 resistors\n",
    "resistors = [100 + i * 10 for i in range(100)]  # 100 resistors\n",
    "I_source = 1.0\n",
    "example_current_divider(I_source, resistors)"
   ]
  }
 ],
 "metadata": {
  "kernelspec": {
   "display_name": "Python 3",
   "language": "python",
   "name": "python3"
  },
  "language_info": {
   "codemirror_mode": {
    "name": "ipython",
    "version": 3
   },
   "file_extension": ".py",
   "mimetype": "text/x-python",
   "name": "python",
   "nbconvert_exporter": "python",
   "pygments_lexer": "ipython3",
   "version": "3.13.1"
  }
 },
 "nbformat": 4,
 "nbformat_minor": 5
}
