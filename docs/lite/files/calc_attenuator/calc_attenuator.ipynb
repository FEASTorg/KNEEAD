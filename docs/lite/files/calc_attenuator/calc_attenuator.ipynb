{
 "cells": [
  {
   "cell_type": "markdown",
   "id": "a276dff0",
   "metadata": {},
   "source": [
    "# RF Attenuator Calculator\n",
    "\n",
    "This notebook provides calculators for common passive attenuator topologies: **Pi**, **Tee**, **Bridged-Tee**, and **Reflection**. These circuits are used in RF design to reduce signal amplitude while maintaining impedance matching.\n",
    "\n",
    "## 📘 Theory\n",
    "\n",
    "An attenuator uses resistive networks to reduce signal power by a specified number of decibels (dB). Key variables:\n",
    "\n",
    "- \\( A\\_{dB} \\): Desired attenuation in decibels\n",
    "- \\( Z_0 \\): System impedance (typically 50Ω or 75Ω)\n",
    "- \\( R_1, R_2 \\): Resistor values calculated per topology\n",
    "\n",
    "Formulas used are based on standard RF engineering references.\n",
    "\n",
    "---\n"
   ]
  },
  {
   "cell_type": "code",
   "execution_count": 1,
   "id": "e0528c44",
   "metadata": {},
   "outputs": [],
   "source": [
    "import calc_attenuator as att\n",
    "import inspect\n",
    "from IPython.display import Markdown, display"
   ]
  },
  {
   "cell_type": "markdown",
   "id": "54cbc1f5",
   "metadata": {},
   "source": [
    "## Pi Attenuator\n",
    "\n",
    "A Pi Attenuator uses a single series resistor, and two shunts to ground (input and output) to attenuate a signal. This calculator lets the user enter the desired attenuation (in dB) and the system impedance (\\( Z_0 \\)) and it will calculate the needed shunt resistors (R₁) and series resistor (R₂).\n",
    "\n",
    "$$\n",
    "R_1 = Z_0 \\left( \\frac{10^{A_{dB}/20} + 1}{10^{A_{dB}/20} - 1} \\right)\n",
    "$$\n",
    "\n",
    "$$\n",
    "R_2 = \\frac{Z_0}{2} \\left( 10^{A_{dB}/20} - \\frac{1}{10^{A_{dB}/20}} \\right)\n",
    "$$\n",
    "\n",
    "![Pi Attenuator](./pi_attenuator.png)\n"
   ]
  },
  {
   "cell_type": "code",
   "execution_count": 2,
   "id": "7cca7218",
   "metadata": {},
   "outputs": [
    {
     "data": {
      "text/markdown": [
       "### 📦 `calc_pi_attenuator` function"
      ],
      "text/plain": [
       "<IPython.core.display.Markdown object>"
      ]
     },
     "metadata": {},
     "output_type": "display_data"
    },
    {
     "name": "stdout",
     "output_type": "stream",
     "text": [
      "def calc_pi_attenuator(att_db, z0):\n",
      "    \"\"\"\n",
      "    Calculate resistor values for a Pi attenuator.\n",
      "\n",
      "    Parameters:\n",
      "        att_db (float): Desired attenuation in dB\n",
      "        z0 (float): System impedance in ohms\n",
      "\n",
      "    Returns:\n",
      "        (R1, R2):\n",
      "            R1 (float) = Shunt resistors (Ω)\n",
      "            R2 (float) = Series resistor (Ω)\n",
      "    \"\"\"\n",
      "    A = 10 ** (att_db / 20)\n",
      "    R1 = z0 * (A + 1) / (A - 1)\n",
      "    R2 = (z0 / 2) * (A - 1 / A)\n",
      "    return R1, R2\n",
      "\n"
     ]
    }
   ],
   "source": [
    "display(Markdown(\"### 📦 `calc_pi_attenuator` function\"))\n",
    "print(inspect.getsource(att.calc_pi_attenuator))"
   ]
  },
  {
   "cell_type": "markdown",
   "id": "6ac0d6ea",
   "metadata": {},
   "source": [
    "## Tee Attenuator\n",
    "\n",
    "This Tee Attenuator Calculator calculates the values of R₁ and R₂ given the attenuation and line impedance.\n",
    "\n",
    "$$\n",
    "R_1 = Z_0 \\left( \\frac{10^{A_{dB}/20} - 1}{10^{A_{dB}/20} + 1} \\right)\n",
    "$$\n",
    "\n",
    "$$\n",
    "R_2 = 2Z_0 \\left( \\frac{10^{A_{dB}/20}}{10^{2A_{dB}/20} - 1} \\right)\n",
    "$$\n",
    "\n",
    "![Tee Attenuator](./tee_attenuator.png)\n"
   ]
  },
  {
   "cell_type": "code",
   "execution_count": 3,
   "id": "f42a61d0",
   "metadata": {},
   "outputs": [
    {
     "data": {
      "text/markdown": [
       "### 📦 `calc_tee_attenuator` function"
      ],
      "text/plain": [
       "<IPython.core.display.Markdown object>"
      ]
     },
     "metadata": {},
     "output_type": "display_data"
    },
    {
     "name": "stdout",
     "output_type": "stream",
     "text": [
      "def calc_tee_attenuator(att_db, z0):\n",
      "    \"\"\"\n",
      "    Calculate resistor values for a Tee attenuator.\n",
      "\n",
      "    Parameters:\n",
      "        att_db (float): Desired attenuation in dB\n",
      "        z0 (float): System impedance in ohms\n",
      "\n",
      "    Returns:\n",
      "        (R1, R2):\n",
      "            R1 (float) = Series resistors (Ω)\n",
      "            R2 (float) = Shunt resistor (Ω)\n",
      "    \"\"\"\n",
      "    A = 10 ** (att_db / 20)\n",
      "    R1 = z0 * (A - 1) / (A + 1)\n",
      "    R2 = 2 * z0 * A / (A**2 - 1)\n",
      "    return R1, R2\n",
      "\n"
     ]
    }
   ],
   "source": [
    "display(Markdown(\"### 📦 `calc_tee_attenuator` function\"))\n",
    "print(inspect.getsource(att.calc_tee_attenuator))"
   ]
  },
  {
   "cell_type": "markdown",
   "id": "6954c665",
   "metadata": {},
   "source": [
    "## Bridged-Tee Attenuator\n",
    "\n",
    "A bridged-tee attenuator is a modified Pi topology. It enables attenuation without altering system impedance.\n",
    "\n",
    "$$\n",
    "R_1 = Z_0 (10^{A_{dB}/20} - 1)\n",
    "$$\n",
    "\n",
    "$$\n",
    "R_2 = \\frac{Z_0}{10^{A_{dB}/20} - 1}\n",
    "$$\n",
    "\n",
    "![Bridge-Tee Attenuator](./bridged-tee_attenuator.png)\n"
   ]
  },
  {
   "cell_type": "code",
   "execution_count": 4,
   "id": "5ad2d956",
   "metadata": {},
   "outputs": [
    {
     "data": {
      "text/markdown": [
       "### 📦 `calc_bridged_tee_attenuator` function"
      ],
      "text/plain": [
       "<IPython.core.display.Markdown object>"
      ]
     },
     "metadata": {},
     "output_type": "display_data"
    },
    {
     "name": "stdout",
     "output_type": "stream",
     "text": [
      "def calc_bridged_tee_attenuator(att_db, z0):\n",
      "    \"\"\"\n",
      "    Calculate resistor values for a Bridged-Tee attenuator.\n",
      "\n",
      "    Parameters:\n",
      "        att_db (float): Desired attenuation in dB\n",
      "        z0 (float): System impedance in ohms\n",
      "\n",
      "    Returns:\n",
      "        (R1, R2):\n",
      "            R1 (float) = Bridge resistor (Ω)\n",
      "            R2 (float) = Center shunt resistor (Ω)\n",
      "    \"\"\"\n",
      "    A = 10 ** (att_db / 20)\n",
      "    R1 = z0 * (A - 1)\n",
      "    R2 = z0 / (A - 1)\n",
      "    return R1, R2\n",
      "\n"
     ]
    }
   ],
   "source": [
    "display(Markdown(\"### 📦 `calc_bridged_tee_attenuator` function\"))\n",
    "print(inspect.getsource(att.calc_bridged_tee_attenuator))"
   ]
  },
  {
   "cell_type": "markdown",
   "id": "852bda0e",
   "metadata": {},
   "source": [
    "## Reflection Attenuator\n",
    "\n",
    "A reflection attenuator uses two equal resistors grounded at a shared node. There are two cases, depending on whether R₁ is greater than or less than the system impedance.\n",
    "\n",
    "$$\n",
    "R_1 = Z_0 \\left( \\frac{10^{A_{dB}/20} + 1}{10^{A_{dB}/20} - 1} \\right) \\quad \\text{(if } R_1 > Z_0\\text{)}\n",
    "$$\n",
    "\n",
    "$$\n",
    "R_1 = Z_0 \\left( \\frac{10^{A_{dB}/20} - 1}{10^{A_{dB}/20} + 1} \\right) \\quad \\text{(if } R_1 < Z_0\\text{)}\n",
    "$$\n",
    "\n",
    "![Reflection Attenuator](./reflection_attenuator.png)\n"
   ]
  },
  {
   "cell_type": "code",
   "execution_count": 5,
   "id": "526c0e35",
   "metadata": {},
   "outputs": [
    {
     "data": {
      "text/markdown": [
       "### 📦 `calc_reflection_attenuator` function"
      ],
      "text/plain": [
       "<IPython.core.display.Markdown object>"
      ]
     },
     "metadata": {},
     "output_type": "display_data"
    },
    {
     "name": "stdout",
     "output_type": "stream",
     "text": [
      "def calc_reflection_attenuator(att_db, z0):\n",
      "    \"\"\"\n",
      "    Calculate resistor values for a Reflection attenuator.\n",
      "\n",
      "    Parameters:\n",
      "        att_db (float): Desired attenuation in dB\n",
      "        z0 (float): System impedance in ohms\n",
      "\n",
      "    Returns:\n",
      "        (R_gt, R_lt):\n",
      "            R_gt (float) = Resistor value if R1 > Z0\n",
      "            R_lt (float) = Resistor value if R1 < Z0\n",
      "    \"\"\"\n",
      "    A = 10 ** (att_db / 20)\n",
      "    R_gt = z0 * (A + 1) / (A - 1)\n",
      "    R_lt = z0 * (A - 1) / (A + 1)\n",
      "    return R_gt, R_lt\n",
      "\n"
     ]
    }
   ],
   "source": [
    "display(Markdown(\"### 📦 `calc_reflection_attenuator` function\"))\n",
    "print(inspect.getsource(att.calc_reflection_attenuator))"
   ]
  },
  {
   "cell_type": "markdown",
   "id": "545eac7a",
   "metadata": {},
   "source": [
    "## Example Usage"
   ]
  },
  {
   "cell_type": "code",
   "execution_count": 6,
   "id": "07ae297d",
   "metadata": {},
   "outputs": [
    {
     "name": "stdout",
     "output_type": "stream",
     "text": [
      "Examples for Attenuation = 6.0 dB, Impedance = 50 Ω\n",
      "\n",
      "🔧 Pi Attenuator:\n",
      "  R1 (shunt) = 150.48 Ω\n",
      "  R2 (series) = 37.35 Ω\n",
      "\n",
      "🔧 Tee Attenuator:\n",
      "  R1 (series) = 16.61 Ω\n",
      "  R2 (shunt) = 66.93 Ω\n",
      "\n",
      "🔧 Bridged-Tee Attenuator:\n",
      "  R1 (bridge) = 49.76 Ω\n",
      "  R2 (shunt) = 50.24 Ω\n",
      "\n",
      "🔧 Reflection Attenuator:\n",
      "  R1 = R2 = 150.48 Ω  (if R > Z0)\n",
      "  R1 = R2 = 16.61 Ω  (if R < Z0)\n",
      "\n"
     ]
    }
   ],
   "source": [
    "def example_usage(att_db, z0):\n",
    "    print(f\"Examples for Attenuation = {att_db} dB, Impedance = {z0} Ω\\n\")\n",
    "\n",
    "    r1, r2 = att.calc_pi_attenuator(att_db, z0)\n",
    "    print(f\"🔧 Pi Attenuator:\\n  R1 (shunt) = {r1:.2f} Ω\\n  R2 (series) = {r2:.2f} Ω\\n\")\n",
    "\n",
    "    r1, r2 = att.calc_tee_attenuator(att_db, z0)\n",
    "    print(f\"🔧 Tee Attenuator:\\n  R1 (series) = {r1:.2f} Ω\\n  R2 (shunt) = {r2:.2f} Ω\\n\")\n",
    "\n",
    "    r1, r2 = att.calc_bridged_tee_attenuator(att_db, z0)\n",
    "    print(f\"🔧 Bridged-Tee Attenuator:\\n  R1 (bridge) = {r1:.2f} Ω\\n  R2 (shunt) = {r2:.2f} Ω\\n\")\n",
    "\n",
    "    r_gt, r_lt = att.calc_reflection_attenuator(att_db, z0)\n",
    "    print(f\"🔧 Reflection Attenuator:\\n  R1 = R2 = {r_gt:.2f} Ω  (if R > Z0)\\n  R1 = R2 = {r_lt:.2f} Ω  (if R < Z0)\\n\")\n",
    "\n",
    "# Example call\n",
    "example_usage(6.0, 50)\n"
   ]
  }
 ],
 "metadata": {
  "kernelspec": {
   "display_name": "Python 3",
   "language": "python",
   "name": "python3"
  },
  "language_info": {
   "codemirror_mode": {
    "name": "ipython",
    "version": 3
   },
   "file_extension": ".py",
   "mimetype": "text/x-python",
   "name": "python",
   "nbconvert_exporter": "python",
   "pygments_lexer": "ipython3",
   "version": "3.13.1"
  }
 },
 "nbformat": 4,
 "nbformat_minor": 5
}
