{
 "cells": [
  {
   "cell_type": "markdown",
   "id": "153fc76d",
   "metadata": {},
   "source": [
    "# 🔢 Decimal ↔ Fraction Converter\n",
    "\n",
    "This notebook provides two modes:\n",
    "\n",
    "1. **Direct conversion** between decimal numbers and exact (or best-approximate) fractions.\n",
    "2. **Approximation table**: For the fractional part, generate rational approximations\n",
    "   with denominators that are powers of two up to a configurable limit.\n",
    "\n",
    "---\n"
   ]
  },
  {
   "cell_type": "code",
   "execution_count": 1,
   "id": "dcccdc64",
   "metadata": {},
   "outputs": [],
   "source": [
    "import calc_decimal_fraction_conversion as dfc\n",
    "import inspect\n",
    "from IPython.display import Markdown, display"
   ]
  },
  {
   "cell_type": "code",
   "execution_count": 2,
   "id": "b82f8b3d",
   "metadata": {},
   "outputs": [
    {
     "data": {
      "text/markdown": [
       "### 📦 `decimal_to_fraction`"
      ],
      "text/plain": [
       "<IPython.core.display.Markdown object>"
      ]
     },
     "metadata": {},
     "output_type": "display_data"
    },
    {
     "name": "stdout",
     "output_type": "stream",
     "text": [
      "def decimal_to_fraction(x, max_denominator=10**6):\n",
      "    \"\"\"\n",
      "    Convert a decimal number to its best rational approximation under max_denominator.\n",
      "    Warns the user if the resulting denominator reaches max_denominator.\n",
      "\n",
      "    Returns:\n",
      "        Fraction\n",
      "    \"\"\"\n",
      "    f = Fraction(x).limit_denominator(max_denominator)\n",
      "    if f.denominator == max_denominator:\n",
      "        print(\n",
      "            f\"⚠️ Warning: Maximum denominator {max_denominator} reached. Result may be a coarse approximation.\"\n",
      "        )\n",
      "    return f\n",
      "\n"
     ]
    },
    {
     "data": {
      "text/markdown": [
       "### 📦 `fraction_to_decimal`"
      ],
      "text/plain": [
       "<IPython.core.display.Markdown object>"
      ]
     },
     "metadata": {},
     "output_type": "display_data"
    },
    {
     "name": "stdout",
     "output_type": "stream",
     "text": [
      "def fraction_to_decimal(frac):\n",
      "    \"\"\"\n",
      "    Convert a Fraction to float.\n",
      "    \"\"\"\n",
      "    return float(frac)\n",
      "\n"
     ]
    },
    {
     "data": {
      "text/markdown": [
       "### 📦 `generate_fraction_approximations`"
      ],
      "text/plain": [
       "<IPython.core.display.Markdown object>"
      ]
     },
     "metadata": {},
     "output_type": "display_data"
    },
    {
     "name": "stdout",
     "output_type": "stream",
     "text": [
      "def generate_fraction_approximations(x, max_denominator=256, max_steps=20):\n",
      "    \"\"\"\n",
      "    Generates a sorted list of approximate fractions using power-of-two denominators.\n",
      "\n",
      "    Returns:\n",
      "        List of dicts with:\n",
      "            - numerator, denominator\n",
      "            - fraction\n",
      "            - approx\n",
      "            - error (absolute)\n",
      "    \"\"\"\n",
      "    int_part = math.floor(x)\n",
      "    frac_part = x - int_part\n",
      "    max_power = int(math.log2(max_denominator))\n",
      "    denominators = [2**i for i in range(2, max_power + 1)]\n",
      "    if len(denominators) > max_steps:\n",
      "        raise ValueError(\n",
      "            f\"Needs {len(denominators)} steps; exceeds limit of {max_steps}.\"\n",
      "        )\n",
      "\n",
      "    results = []\n",
      "    for d in denominators:\n",
      "        n = round(frac_part * d)\n",
      "        f = Fraction(n, d)\n",
      "        approx_val = int_part + n / d\n",
      "        abs_err = abs(x - approx_val)\n",
      "        pct_err = (abs_err / x) * 100\n",
      "        results.append(\n",
      "            {\n",
      "                \"numerator\": n,\n",
      "                \"denominator\": d,\n",
      "                \"fraction\": f,\n",
      "                \"approx\": approx_val,\n",
      "                \"error\": abs_err,\n",
      "                \"percent_error\": pct_err,\n",
      "            }\n",
      "        )\n",
      "\n",
      "    results.sort(key=lambda e: e[\"error\"])\n",
      "    return results\n",
      "\n"
     ]
    }
   ],
   "source": [
    "# Show function sources\n",
    "for func in [\n",
    "    dfc.decimal_to_fraction,\n",
    "    dfc.fraction_to_decimal,\n",
    "    dfc.generate_fraction_approximations,\n",
    "]:\n",
    "    display(Markdown(f\"### 📦 `{func.__name__}`\"))\n",
    "    print(inspect.getsource(func))"
   ]
  },
  {
   "cell_type": "code",
   "execution_count": 3,
   "id": "1c5ae83a",
   "metadata": {},
   "outputs": [
    {
     "name": "stdout",
     "output_type": "stream",
     "text": [
      "Decimal 2.375 → Fraction: 19/8\n",
      "Fraction 19/8 → Mixed: 2 3/8\n",
      "Mixed 2 3/8 → Decimal: 2.375\n"
     ]
    }
   ],
   "source": [
    "# Direct decimal → fraction → mixed → decimal\n",
    "x = 2.375\n",
    "f = dfc.decimal_to_fraction(x)\n",
    "whole, rem = dfc.fraction_to_mixed(f)\n",
    "\n",
    "print(f\"Decimal {x} → Fraction: {f}\")\n",
    "print(f\"Fraction {f} → Mixed: {whole} {rem}\")\n",
    "print(f\"Mixed {whole} {rem} → Decimal: {dfc.fraction_to_decimal(f)}\")"
   ]
  },
  {
   "cell_type": "code",
   "execution_count": 4,
   "id": "9a1f92b8",
   "metadata": {},
   "outputs": [
    {
     "name": "stdout",
     "output_type": "stream",
     "text": [
      "Decimal 2.48953 → Fraction: 248953/100000\n",
      "Fraction 248953/100000 → Mixed: 2 48953/100000\n",
      "Mixed 2 48953/100000 → Decimal: 2.48953\n"
     ]
    }
   ],
   "source": [
    "# Another example with a different number\n",
    "x2 = 2.48953\n",
    "f2 = dfc.decimal_to_fraction(x2)\n",
    "whole2, rem2 = dfc.fraction_to_mixed(f2)\n",
    "\n",
    "print(f\"Decimal {x2} → Fraction: {f2}\")\n",
    "print(f\"Fraction {f2} → Mixed: {whole2} {rem2}\")\n",
    "print(f\"Mixed {whole2} {rem2} → Decimal: {dfc.fraction_to_decimal(f2)}\")"
   ]
  },
  {
   "cell_type": "code",
   "execution_count": 5,
   "id": "88cf91ea",
   "metadata": {},
   "outputs": [
    {
     "name": "stdout",
     "output_type": "stream",
     "text": [
      "\n",
      "Approximation table for 2.48953 (fractional part):\n",
      "\n",
      "16041/32768 = 2.489532 → Mixed: 0 16041/32768  (abs error: 0.000002, rel error: 0.0001%)\n",
      "16041/32768 = 2.489532 → Mixed: 0 16041/32768  (abs error: 0.000002, rel error: 0.0001%)\n",
      "16041/32768 = 2.489532 → Mixed: 0 16041/32768  (abs error: 0.000002, rel error: 0.0001%)\n",
      "2005/4096 = 2.489502 → Mixed: 0 2005/4096  (abs error: 0.000028, rel error: 0.0011%)\n",
      "2005/4096 = 2.489502 → Mixed: 0 2005/4096  (abs error: 0.000028, rel error: 0.0011%)\n",
      "2005/4096 = 2.489502 → Mixed: 0 2005/4096  (abs error: 0.000028, rel error: 0.0011%)\n",
      "1003/2048 = 2.489746 → Mixed: 0 1003/2048  (abs error: 0.000216, rel error: 0.0087%)\n",
      "501/1024 = 2.489258 → Mixed: 0 501/1024  (abs error: 0.000272, rel error: 0.0109%)\n",
      "251/512 = 2.490234 → Mixed: 0 251/512  (abs error: 0.000704, rel error: 0.0283%)\n",
      "125/256 = 2.488281 → Mixed: 0 125/256  (abs error: 0.001249, rel error: 0.0502%)\n",
      "63/128 = 2.492188 → Mixed: 0 63/128  (abs error: 0.002658, rel error: 0.1067%)\n",
      "31/64 = 2.484375 → Mixed: 0 31/64  (abs error: 0.005155, rel error: 0.2071%)\n",
      "1/2 = 2.500000 → Mixed: 0 1/2  (abs error: 0.010470, rel error: 0.4206%)\n",
      "1/2 = 2.500000 → Mixed: 0 1/2  (abs error: 0.010470, rel error: 0.4206%)\n",
      "1/2 = 2.500000 → Mixed: 0 1/2  (abs error: 0.010470, rel error: 0.4206%)\n",
      "1/2 = 2.500000 → Mixed: 0 1/2  (abs error: 0.010470, rel error: 0.4206%)\n"
     ]
    }
   ],
   "source": [
    "# Generate approximations for the fractional part of x2\n",
    "print(f\"\\nApproximation table for {x2} (fractional part):\\n\")\n",
    "\n",
    "table = dfc.generate_fraction_approximations(x2, max_denominator=256000)\n",
    "\n",
    "for entry in table:\n",
    "    frac = entry[\"fraction\"]\n",
    "    approx = entry[\"approx\"]\n",
    "    abs_err = entry[\"error\"]\n",
    "    pct_err = entry[\"percent_error\"]\n",
    "    whole, rem = dfc.fraction_to_mixed(frac)\n",
    "    print(\n",
    "        f\"{frac} = {approx:.6f} → Mixed: {whole} {rem}  \"\n",
    "        f\"(abs error: {abs_err:.6f}, rel error: {pct_err:.4f}%)\"\n",
    "    )"
   ]
  }
 ],
 "metadata": {
  "kernelspec": {
   "display_name": "Python 3",
   "language": "python",
   "name": "python3"
  },
  "language_info": {
   "codemirror_mode": {
    "name": "ipython",
    "version": 3
   },
   "file_extension": ".py",
   "mimetype": "text/x-python",
   "name": "python",
   "nbconvert_exporter": "python",
   "pygments_lexer": "ipython3",
   "version": "3.13.1"
  }
 },
 "nbformat": 4,
 "nbformat_minor": 5
}
