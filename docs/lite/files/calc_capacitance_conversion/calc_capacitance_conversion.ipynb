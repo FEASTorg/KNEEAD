{
 "cells": [
  {
   "cell_type": "markdown",
   "id": "f6762912",
   "metadata": {},
   "source": [
    "# Capacitance Conversion Calculator\n",
    "\n",
    "This calculator converts capacitance values between the following units:\n",
    "\n",
    "- **pF (picofarads)**\n",
    "- **nF (nanofarads)**\n",
    "- **µF (microfarads)**\n",
    "- **F (farads)**\n",
    "\n",
    "It also includes a reference chart and decoder for **capacitor codes** commonly used on SMD and ceramic capacitors.\n",
    "\n",
    "---\n",
    "\n",
    "The capacitor code is typically a 3-digit number:\n",
    "\n",
    "- First two digits: significant figures (in pF)\n",
    "- Third digit: multiplier (as power of 10)\n",
    "- Example: $`104` = 10 \\times 10^4 = 100,000  pF = 100 nF$\n",
    "\n",
    "![Capacitance Conversion Chart](./capacitance_conversion_chart.png)\n"
   ]
  },
  {
   "cell_type": "code",
   "execution_count": 1,
   "id": "27ccd088",
   "metadata": {},
   "outputs": [],
   "source": [
    "import calc_capacitance_conversion as cap\n",
    "import inspect\n",
    "from IPython.display import Markdown, display"
   ]
  },
  {
   "cell_type": "code",
   "execution_count": 2,
   "id": "3b6a0d01",
   "metadata": {},
   "outputs": [
    {
     "data": {
      "text/markdown": [
       "### 📦 `convert_capacitance` function"
      ],
      "text/plain": [
       "<IPython.core.display.Markdown object>"
      ]
     },
     "metadata": {},
     "output_type": "display_data"
    },
    {
     "name": "stdout",
     "output_type": "stream",
     "text": [
      "def convert_capacitance(value, from_unit):\n",
      "    \"\"\"\n",
      "    Convert input capacitance to all supported units.\n",
      "    from_unit must be one of: 'pF', 'nF', 'uF', 'F'\n",
      "    \"\"\"\n",
      "    units = {\"pF\": 1e-12, \"nF\": 1e-9, \"uF\": 1e-6, \"F\": 1}\n",
      "\n",
      "    if from_unit not in units:\n",
      "        raise ValueError(\"Invalid unit. Use 'pF', 'nF', 'uF', or 'F'.\")\n",
      "\n",
      "    # Convert to farads as base\n",
      "    f_value = value * units[from_unit]\n",
      "\n",
      "    # Convert to all units\n",
      "    conversions = {\n",
      "        \"pF\": f_value / units[\"pF\"],\n",
      "        \"nF\": f_value / units[\"nF\"],\n",
      "        \"uF\": f_value / units[\"uF\"],\n",
      "        \"F\": f_value,\n",
      "    }\n",
      "\n",
      "    return conversions\n",
      "\n"
     ]
    }
   ],
   "source": [
    "# Display convert_capacitance source code\n",
    "display(Markdown(\"### 📦 `convert_capacitance` function\"))\n",
    "print(inspect.getsource(cap.convert_capacitance))"
   ]
  },
  {
   "cell_type": "code",
   "execution_count": 3,
   "id": "70b4111a",
   "metadata": {},
   "outputs": [
    {
     "data": {
      "text/markdown": [
       "### 📦 `decode_capacitor_code` function"
      ],
      "text/plain": [
       "<IPython.core.display.Markdown object>"
      ]
     },
     "metadata": {},
     "output_type": "display_data"
    },
    {
     "name": "stdout",
     "output_type": "stream",
     "text": [
      "def decode_capacitor_code(code):\n",
      "    \"\"\"\n",
      "    Decode a standard 3-digit capacitor code (e.g., '104' → 100nF).\n",
      "    Returns value in pF.\n",
      "    \"\"\"\n",
      "    code = str(code).strip()\n",
      "\n",
      "    if len(code) != 3 or not code.isdigit():\n",
      "        raise ValueError(\"Capacitor code must be a 3-digit number.\")\n",
      "\n",
      "    sig = int(code[:2])\n",
      "    mult = int(code[2])\n",
      "    pf = sig * (10**mult)\n",
      "\n",
      "    return pf\n",
      "\n"
     ]
    }
   ],
   "source": [
    "# Display decode_capacitor_code source code\n",
    "display(Markdown(\"### 📦 `decode_capacitor_code` function\"))\n",
    "print(inspect.getsource(cap.decode_capacitor_code))"
   ]
  },
  {
   "cell_type": "code",
   "execution_count": 4,
   "id": "a1fc0a3d",
   "metadata": {},
   "outputs": [
    {
     "name": "stdout",
     "output_type": "stream",
     "text": [
      "🔁 Capacitance Conversion\n",
      "Input: 47 nF\n",
      "\n",
      "pF: 47000\n",
      "nF: 47\n",
      "uF: 0.047\n",
      "F: 4.7e-08\n",
      "\n",
      "🔍 Decoding Capacitor Code '104'\n",
      "100000 pF\n",
      "100.000 nF\n",
      "0.100000 µF\n",
      "\n",
      "🔍 Decoding Capacitor Code '683'\n",
      "68000 pF\n",
      "68.000 nF\n",
      "0.068000 µF\n"
     ]
    }
   ],
   "source": [
    "def example_conversion(value, unit):\n",
    "    \"\"\"\n",
    "    Show capacitance conversion across all units from a given base unit.\n",
    "    \"\"\"\n",
    "    result = cap.convert_capacitance(value, unit)\n",
    "\n",
    "    print(\"🔁 Capacitance Conversion\")\n",
    "    print(f\"Input: {value} {unit}\\n\")\n",
    "    for out_unit in [\"pF\", \"nF\", \"uF\", \"F\"]:\n",
    "        print(f\"{out_unit}: {result[out_unit]:.6g}\")\n",
    "\n",
    "def example_decode(code):\n",
    "    \"\"\"\n",
    "    Show decoded capacitor code in pF, nF, and µF.\n",
    "    \"\"\"\n",
    "    pf = cap.decode_capacitor_code(code)\n",
    "    print(f\"\\n🔍 Decoding Capacitor Code '{code}'\")\n",
    "    print(f\"{pf} pF\")\n",
    "    print(f\"{pf / 1e3:.3f} nF\")\n",
    "    print(f\"{pf / 1e6:.6f} µF\")\n",
    "\n",
    "# Example usage calls\n",
    "example_conversion(47, \"nF\")\n",
    "example_decode(\"104\")\n",
    "example_decode(\"683\")\n"
   ]
  }
 ],
 "metadata": {
  "kernelspec": {
   "display_name": "Python 3",
   "language": "python",
   "name": "python3"
  },
  "language_info": {
   "codemirror_mode": {
    "name": "ipython",
    "version": 3
   },
   "file_extension": ".py",
   "mimetype": "text/x-python",
   "name": "python",
   "nbconvert_exporter": "python",
   "pygments_lexer": "ipython3",
   "version": "3.13.1"
  }
 },
 "nbformat": 4,
 "nbformat_minor": 5
}
