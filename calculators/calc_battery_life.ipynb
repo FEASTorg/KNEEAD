{
 "cells": [
  {
   "cell_type": "markdown",
   "id": "c1a3bc2e",
   "metadata": {},
   "source": [
    "# Battery Life Calculator\n",
    "\n",
    "This calculator estimates how long a battery will last based on its capacity and the average current consumption of a device. Battery capacity is typically given in milliamp-hours (mAh), and device consumption in milliamps (mA).\n",
    "\n",
    "You can also convert Watt-hours (Wh) to Amp-hours (Ah) by dividing by the battery’s nominal voltage (V):  \n",
    "\\[\n",
    "Ah = \\frac{Wh}{V}\n",
    "\\]\n",
    "\n",
    "## 📘 Formula\n",
    "\n",
    "The estimated battery life in hours is calculated using:\n",
    "\n",
    "\\[\n",
    "\\text{Battery Life (h)} = \\frac{\\text{Battery Capacity (mAh)}}{\\text{Load Current (mA)}}\n",
    "\\]\n",
    "\n",
    "This assumes continuous discharge at the specified load and ideal conditions (no self-discharge, temperature effects, or efficiency losses).\n",
    "\n",
    "---\n"
   ]
  },
  {
   "cell_type": "markdown",
   "id": "5841a8be",
   "metadata": {},
   "source": [
    "## Calculations"
   ]
  },
  {
   "cell_type": "code",
   "execution_count": 13,
   "id": "4162b083",
   "metadata": {},
   "outputs": [],
   "source": [
    "def calc_battery_life(capacity_mAh, current_mA):\n",
    "    \"\"\"\n",
    "    Calculate battery life in hours from battery capacity (mAh) and load current (mA).\n",
    "    \"\"\"\n",
    "    if current_mA <= 0:\n",
    "        raise ValueError(\"Current must be greater than 0 mA.\")\n",
    "    return capacity_mAh / current_mA\n"
   ]
  },
  {
   "cell_type": "code",
   "execution_count": 14,
   "id": "87d2382a",
   "metadata": {},
   "outputs": [],
   "source": [
    "def format_battery_life(hours, unit='hours'):\n",
    "    \"\"\"\n",
    "    Convert battery life from hours to the desired time unit.\n",
    "    \"\"\"\n",
    "    if unit == 'hours':\n",
    "        return f\"{hours:.2f} Hours\"\n",
    "    elif unit == 'days':\n",
    "        return f\"{hours / 24:.2f} Days\"\n",
    "    elif unit == 'weeks':\n",
    "        return f\"{hours / (24 * 7):.2f} Weeks\"\n",
    "    elif unit == 'months':\n",
    "        return f\"{hours / (24 * 30):.2f} Months\"\n",
    "    elif unit == 'years':\n",
    "        return f\"{hours / (24 * 365):.2f} Years\"\n",
    "    else:\n",
    "        return f\"{hours:.2f} Hours\"\n"
   ]
  },
  {
   "cell_type": "markdown",
   "id": "599ad29f",
   "metadata": {},
   "source": [
    "## Example"
   ]
  },
  {
   "cell_type": "code",
   "execution_count": 15,
   "id": "6c056047",
   "metadata": {},
   "outputs": [
    {
     "name": "stdout",
     "output_type": "stream",
     "text": [
      "🔋 Battery Life Estimate\n",
      "Battery Capacity: 30000 mAh\n",
      "Device Load: 200 mA\n",
      "\n",
      "Estimated Life in Hours: 150.00 Hours\n",
      "Estimated Life in Days: 6.25 Days\n",
      "Estimated Life in Weeks: 0.89 Weeks\n",
      "Estimated Life in Months: 0.21 Months\n",
      "Estimated Life in Years: 0.02 Years\n"
     ]
    }
   ],
   "source": [
    "def example_usage(capacity, current):\n",
    "\n",
    "    hours = calc_battery_life(capacity, current)\n",
    "\n",
    "    print(\"🔋 Battery Life Estimate\")\n",
    "    print(f\"Battery Capacity: {capacity} mAh\")\n",
    "    print(f\"Device Load: {current} mA\\n\")\n",
    "\n",
    "    for unit in [\"hours\", \"days\", \"weeks\", \"months\", \"years\"]:\n",
    "        print(\n",
    "            f\"Estimated Life in {unit.capitalize()}: {format_battery_life(hours, unit)}\"\n",
    "        )\n",
    "\n",
    "\n",
    "capacity = 30000  # mAh\n",
    "current = 200  # mA\n",
    "\n",
    "example_usage(capacity, current)"
   ]
  }
 ],
 "metadata": {
  "kernelspec": {
   "display_name": "Python 3",
   "language": "python",
   "name": "python3"
  },
  "language_info": {
   "codemirror_mode": {
    "name": "ipython",
    "version": 3
   },
   "file_extension": ".py",
   "mimetype": "text/x-python",
   "name": "python",
   "nbconvert_exporter": "python",
   "pygments_lexer": "ipython3",
   "version": "3.13.1"
  }
 },
 "nbformat": 4,
 "nbformat_minor": 5
}
