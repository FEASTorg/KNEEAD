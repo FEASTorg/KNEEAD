{
 "cells": [
  {
   "cell_type": "markdown",
   "id": "a276dff0",
   "metadata": {},
   "source": [
    "# RF Attenuator Calculator\n",
    "\n",
    "This notebook provides calculators for common passive attenuator topologies: **Pi**, **Tee**, **Bridged-Tee**, and **Reflection**. These circuits are used in RF design to reduce signal amplitude while maintaining impedance matching.\n",
    "\n",
    "## 📘 Theory\n",
    "\n",
    "An attenuator uses resistive networks to reduce signal power by a specified number of decibels (dB). Key variables:\n",
    "- \\( A_{dB} \\): Desired attenuation in decibels\n",
    "- \\( Z_0 \\): System impedance (typically 50Ω or 75Ω)\n",
    "- \\( R_1, R_2 \\): Resistor values calculated per topology\n",
    "\n",
    "Formulas used are based on standard RF engineering references.\n",
    "\n",
    "--- \n"
   ]
  },
  {
   "cell_type": "code",
   "execution_count": 28,
   "id": "e0528c44",
   "metadata": {},
   "outputs": [],
   "source": [
    "import numpy as np"
   ]
  },
  {
   "cell_type": "markdown",
   "id": "54cbc1f5",
   "metadata": {},
   "source": [
    "## Pi Attenuator\n",
    "\n",
    "A Pi Attenuator uses a single series resistor, and two shunts to ground (input and output) to attenuate a signal. This calculator lets the user enter in the desired attenuation (in dB) and the system impedance (Zo in Ω’s) and it will calculate the needed shunt resistors (R1) and series resistor (R2).\n",
    "\n",
    "![Pi Attenuator](./images/pi_attenuator.png)\n"
   ]
  },
  {
   "cell_type": "code",
   "execution_count": 29,
   "id": "7cca7218",
   "metadata": {},
   "outputs": [],
   "source": [
    "def calc_pi_attenuator(att_db, z0):\n",
    "    \"\"\"\n",
    "    Calculates R1 and R2 for a Pi attenuator network.\n",
    "    R1: shunt resistor (to ground)\n",
    "    R2: series resistor (between input/output)\n",
    "    \"\"\"\n",
    "    A = 10**(att_db / 20)\n",
    "    R1 = z0 * (A + 1) / (A - 1)\n",
    "    R2 = (z0 / 2) * (A - 1/A)\n",
    "    return R1, R2"
   ]
  },
  {
   "cell_type": "markdown",
   "id": "6ac0d6ea",
   "metadata": {},
   "source": [
    "## Tee Attenuator\n",
    "\n",
    "This Tee Attenuator Calculator will calculate the values of R1 and R2. Enter in the needed attenuation and the impedance of the line to be matched.\n",
    "\n",
    "![Tee Attenuator](./images/tee_attenuator.png)\n"
   ]
  },
  {
   "cell_type": "code",
   "execution_count": 30,
   "id": "f42a61d0",
   "metadata": {},
   "outputs": [],
   "source": [
    "def calc_tee_attenuator(att_db, z0):\n",
    "    \"\"\"\n",
    "    Calculates R1 and R2 for a Tee attenuator network.\n",
    "    R1: series resistor (between input/output)\n",
    "    R2: shunt resistor (to ground)\n",
    "    \"\"\"\n",
    "    A = 10**(att_db / 20)\n",
    "    R1 = z0 * (A - 1) / (A + 1)\n",
    "    R2 = 2 * z0 * A / (A**2 - 1)\n",
    "    return R1, R2"
   ]
  },
  {
   "cell_type": "markdown",
   "id": "6954c665",
   "metadata": {},
   "source": [
    "## Bridge-Tee Attenuator\n",
    "\n",
    "A bridged tee attenuator is a modified pi topology attenuator. The bridged tee attenuator will let you attenuate the signal without changing the systems impedance.\n",
    "\n",
    "![Bridge-Tee Attenuator](./images/bridged-tee_attenuator.png)\n"
   ]
  },
  {
   "cell_type": "code",
   "execution_count": 31,
   "id": "5ad2d956",
   "metadata": {},
   "outputs": [],
   "source": [
    "def calc_bridged_tee_attenuator(att_db, z0):\n",
    "    \"\"\"\n",
    "    Calculates R1 and R2 for a Bridged-Tee attenuator network.\n",
    "    R1: bridging resistor\n",
    "    R2: shunt resistor (middle to ground)\n",
    "    \"\"\"\n",
    "    A = 10**(att_db / 20)\n",
    "    R1 = z0 * (A - 1)\n",
    "    R2 = z0 / (A - 1)\n",
    "    return R1, R2"
   ]
  },
  {
   "cell_type": "markdown",
   "id": "852bda0e",
   "metadata": {},
   "source": [
    "## Reflection Attenuator \n",
    "\n",
    "This reflection attenuator calculator lets you find two possible resistor values for a reflection attenuator. A reflection attenuator uses two equal resistors grounded and tied to the same node to attenuate a signal. There are two possible outputs depending on if your resistance is higher than your system impedance. \n",
    "\n",
    "![Reflection Attenuator](./images/reflection_attenuator.png)"
   ]
  },
  {
   "cell_type": "code",
   "execution_count": 32,
   "id": "821b0121",
   "metadata": {},
   "outputs": [],
   "source": [
    "def calc_reflection_attenuator(att_db, z0):\n",
    "    \"\"\"\n",
    "    Calculates R1 = R2 for both cases of a Reflection attenuator:\n",
    "    - Case 1: R > Z0\n",
    "    - Case 2: R < Z0\n",
    "    \"\"\"\n",
    "    A = 10**(att_db / 20)\n",
    "    R_gt = z0 * (A + 1) / (A - 1)  # R1 > Z0\n",
    "    R_lt = z0 * (A - 1) / (A + 1)  # R1 < Z0\n",
    "    return R_gt, R_lt"
   ]
  },
  {
   "cell_type": "markdown",
   "id": "545eac7a",
   "metadata": {},
   "source": [
    "## Example Usage"
   ]
  },
  {
   "cell_type": "code",
   "execution_count": 33,
   "id": "07ae297d",
   "metadata": {},
   "outputs": [
    {
     "name": "stdout",
     "output_type": "stream",
     "text": [
      "Examples for Attenuation = 6.0 dB, Impedance = 50 Ω\n",
      "\n",
      "🔧 Pi Attenuator:\n",
      "  R1 (shunt) = 150.48 Ω\n",
      "  R2 (series) = 37.35 Ω\n",
      "\n",
      "🔧 Tee Attenuator:\n",
      "  R1 (series) = 16.61 Ω\n",
      "  R2 (shunt) = 66.93 Ω\n",
      "\n",
      "🔧 Bridged-Tee Attenuator:\n",
      "  R1 (bridge) = 49.76 Ω\n",
      "  R2 (shunt) = 50.24 Ω\n",
      "\n",
      "🔧 Reflection Attenuator:\n",
      "  R1 = R2 = 150.48 Ω  (if R > Z0)\n",
      "  R1 = R2 = 16.61 Ω  (if R < Z0)\n",
      "\n"
     ]
    }
   ],
   "source": [
    "\n",
    "def example_usage(att_db, z0):\n",
    "    print(f\"Examples for Attenuation = {att_db} dB, Impedance = {z0} Ω\\n\")\n",
    "\n",
    "    r1, r2 = calc_pi_attenuator(att_db, z0)\n",
    "    print(f\"🔧 Pi Attenuator:\\n  R1 (shunt) = {r1:.2f} Ω\\n  R2 (series) = {r2:.2f} Ω\\n\")\n",
    "\n",
    "    r1, r2 = calc_tee_attenuator(att_db, z0)\n",
    "    print(f\"🔧 Tee Attenuator:\\n  R1 (series) = {r1:.2f} Ω\\n  R2 (shunt) = {r2:.2f} Ω\\n\")\n",
    "\n",
    "    r1, r2 = calc_bridged_tee_attenuator(att_db, z0)\n",
    "    print(f\"🔧 Bridged-Tee Attenuator:\\n  R1 (bridge) = {r1:.2f} Ω\\n  R2 (shunt) = {r2:.2f} Ω\\n\")\n",
    "\n",
    "    r_gt, r_lt = calc_reflection_attenuator(att_db, z0)\n",
    "    print(f\"🔧 Reflection Attenuator:\\n  R1 = R2 = {r_gt:.2f} Ω  (if R > Z0)\\n  R1 = R2 = {r_lt:.2f} Ω  (if R < Z0)\\n\")\n",
    "\n",
    "example_usage(6.0, 50)"
   ]
  }
 ],
 "metadata": {
  "kernelspec": {
   "display_name": "Python 3",
   "language": "python",
   "name": "python3"
  },
  "language_info": {
   "codemirror_mode": {
    "name": "ipython",
    "version": 3
   },
   "file_extension": ".py",
   "mimetype": "text/x-python",
   "name": "python",
   "nbconvert_exporter": "python",
   "pygments_lexer": "ipython3",
   "version": "3.13.1"
  }
 },
 "nbformat": 4,
 "nbformat_minor": 5
}
